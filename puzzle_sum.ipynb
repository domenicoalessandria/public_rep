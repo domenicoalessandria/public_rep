{
 "cells": [
  {
   "cell_type": "code",
   "execution_count": 3,
   "id": "a5b33f57-d161-4d1b-ac23-4909a58250a9",
   "metadata": {},
   "outputs": [],
   "source": [
    "#test list\n",
    "mylist=[200.69,106.75,357.65,379.69,412.72,321.47,371.29]\n",
    "\n",
    "from itertools import combinations as comb"
   ]
  },
  {
   "cell_type": "code",
   "execution_count": 4,
   "id": "24728272-1b5a-46ac-9a4c-eb787c2e35d6",
   "metadata": {},
   "outputs": [],
   "source": [
    "# defining sum_discovery function\n",
    "def fatture_detec(mylist,the_sum,lower_abs_err=0.5,upper_abs_err=0.5):\n",
    "    \n",
    "    #creating all possible combination of the number in the list and converting back the object to a list\n",
    "    for i in range(2,len(mylist)):\n",
    "        c=comb(mylist,i)\n",
    "        c_list=list(c)\n",
    "        \n",
    "        #split the list by taking one tuples at a time for further analysis\n",
    "        for i in range(len(c_list)):\n",
    "            t_list=list(c_list[i])\n",
    "            my_sum=0\n",
    "            \n",
    "            # summing the numbers inside the single tuple\n",
    "            for i in range(len(t_list)):\n",
    "                my_sum+=t_list[i]\n",
    "\n",
    "            # checking if the resulting sum is the one we are looking for with a margin of error\n",
    "            if my_sum<lower_abs_err+the_sum and my_sum>the_sum-upper_abs_err:\n",
    "                print(my_sum)\n",
    "                print(t_list)"
   ]
  },
  {
   "cell_type": "code",
   "execution_count": 5,
   "id": "598e0872-a4ba-4b60-a1c6-893ca94faf4c",
   "metadata": {},
   "outputs": [
    {
     "name": "stdout",
     "output_type": "stream",
     "text": [
      "307.44\n",
      "[200.69, 106.75]\n"
     ]
    }
   ],
   "source": [
    "fatture_detec(mylist,307.14)"
   ]
  },
  {
   "cell_type": "code",
   "execution_count": 8,
   "id": "ebdc8d7a-ba9f-4e48-9251-560f3f7898e1",
   "metadata": {},
   "outputs": [],
   "source": [
    "list2=[295.93,299.50,277.51,200.69,208.34,72.44,55.78,200.69,106.75,657.65,379.69,412.72,321.47,371.29]"
   ]
  },
  {
   "cell_type": "code",
   "execution_count": 9,
   "id": "4affec40-a082-4dd7-be7d-e4c622776e7b",
   "metadata": {},
   "outputs": [
    {
     "name": "stdout",
     "output_type": "stream",
     "text": [
      "3560.9500000000007\n",
      "[295.93, 277.51, 200.69, 208.34, 72.44, 55.78, 200.69, 106.75, 657.65, 379.69, 412.72, 321.47, 371.29]\n"
     ]
    }
   ],
   "source": [
    "fatture_detec(list2,3560.46)"
   ]
  },
  {
   "cell_type": "code",
   "execution_count": null,
   "id": "e7b1da3b-0afb-47b9-bafb-081088ef1c29",
   "metadata": {},
   "outputs": [],
   "source": []
  }
 ],
 "metadata": {
  "kernelspec": {
   "display_name": "Python 3 (ipykernel)",
   "language": "python",
   "name": "python3"
  },
  "language_info": {
   "codemirror_mode": {
    "name": "ipython",
    "version": 3
   },
   "file_extension": ".py",
   "mimetype": "text/x-python",
   "name": "python",
   "nbconvert_exporter": "python",
   "pygments_lexer": "ipython3",
   "version": "3.11.1"
  }
 },
 "nbformat": 4,
 "nbformat_minor": 5
}
