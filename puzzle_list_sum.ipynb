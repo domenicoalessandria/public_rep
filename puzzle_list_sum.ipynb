{
 "cells": [
  {
   "cell_type": "code",
   "execution_count": 2,
   "id": "b21f9c4c",
   "metadata": {},
   "outputs": [],
   "source": [
    "#test list\n",
    "mylist=[200.69,106.75,357.65,379.69,412.72,321.47,371.29]"
   ]
  },
  {
   "cell_type": "code",
   "execution_count": 3,
   "id": "ae96eed1",
   "metadata": {},
   "outputs": [],
   "source": [
    "from itertools import combinations as comb"
   ]
  },
  {
   "cell_type": "code",
   "execution_count": 4,
   "id": "19cc1e5b",
   "metadata": {},
   "outputs": [],
   "source": [
    "#creating the combination in c\n",
    "c=comb(mylist,2)"
   ]
  },
  {
   "cell_type": "code",
   "execution_count": 5,
   "id": "01230fba",
   "metadata": {},
   "outputs": [
    {
     "name": "stdout",
     "output_type": "stream",
     "text": [
      "[(200.69, 106.75), (200.69, 357.65), (200.69, 379.69), (200.69, 412.72), (200.69, 321.47), (200.69, 371.29), (106.75, 357.65), (106.75, 379.69), (106.75, 412.72), (106.75, 321.47), (106.75, 371.29), (357.65, 379.69), (357.65, 412.72), (357.65, 321.47), (357.65, 371.29), (379.69, 412.72), (379.69, 321.47), (379.69, 371.29), (412.72, 321.47), (412.72, 371.29), (321.47, 371.29)]\n"
     ]
    }
   ],
   "source": [
    "#take a look at c after converting back to a list\n",
    "c_1=list(c)\n",
    "print(c_1)"
   ]
  },
  {
   "cell_type": "code",
   "execution_count": 8,
   "id": "1c489c63",
   "metadata": {},
   "outputs": [],
   "source": [
    "# defining sum_discovery function\n",
    "def fatture_detec(mylist,the_sum,lower_abs_err=0.5,upper_abs_err=0.5):\n",
    "    for i in range(2,len(mylist)):\n",
    "        c=comb(mylist,i)\n",
    "        c_list=list(c)\n",
    "        for i in range(len(c_list)):\n",
    "            t_list=list(c_list[i])\n",
    "            my_sum=0\n",
    "            for i in range(len(t_list)):\n",
    "                my_sum+=t_list[i]\n",
    "            if my_sum<lower_abs_err+the_sum and my_sum>the_sum-upper_abs_err:\n",
    "                print(my_sum)\n",
    "                print(t_list)"
   ]
  },
  {
   "cell_type": "code",
   "execution_count": 13,
   "id": "66d38fd4",
   "metadata": {},
   "outputs": [
    {
     "name": "stdout",
     "output_type": "stream",
     "text": [
      "307.44\n",
      "[200.69, 106.75]\n"
     ]
    }
   ],
   "source": [
    "fatture_detec(mylist,307.14)"
   ]
  },
  {
   "cell_type": "code",
   "execution_count": 14,
   "id": "4099f2a8",
   "metadata": {},
   "outputs": [],
   "source": [
    "list2=[295.93,299.50,277.51,200.69,208.34,72.44,55.78,200.69,106.75,657.65,379.69,412.72,321.47,371.29]"
   ]
  },
  {
   "cell_type": "code",
   "execution_count": 15,
   "id": "4aaa49d2",
   "metadata": {},
   "outputs": [
    {
     "name": "stdout",
     "output_type": "stream",
     "text": [
      "3560.9500000000007\n",
      "[295.93, 277.51, 200.69, 208.34, 72.44, 55.78, 200.69, 106.75, 657.65, 379.69, 412.72, 321.47, 371.29]\n"
     ]
    }
   ],
   "source": [
    "fatture_detec(list2,3560.46)"
   ]
  },
  {
   "cell_type": "code",
   "execution_count": null,
   "id": "419b4bb3",
   "metadata": {},
   "outputs": [],
   "source": []
  }
 ],
 "metadata": {
  "kernelspec": {
   "display_name": "Python 3 (ipykernel)",
   "language": "python",
   "name": "python3"
  },
  "language_info": {
   "codemirror_mode": {
    "name": "ipython",
    "version": 3
   },
   "file_extension": ".py",
   "mimetype": "text/x-python",
   "name": "python",
   "nbconvert_exporter": "python",
   "pygments_lexer": "ipython3",
   "version": "3.12.2"
  }
 },
 "nbformat": 4,
 "nbformat_minor": 5
}
